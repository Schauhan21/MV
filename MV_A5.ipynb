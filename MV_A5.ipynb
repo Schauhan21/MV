{
  "cells": [
    {
      "cell_type": "markdown",
      "metadata": {
        "id": "view-in-github",
        "colab_type": "text"
      },
      "source": [
        "<a href=\"https://colab.research.google.com/github/Schauhan21/MV/blob/main/MV_A5.ipynb\" target=\"_parent\"><img src=\"https://colab.research.google.com/assets/colab-badge.svg\" alt=\"Open In Colab\"/></a>"
      ]
    },
    {
      "cell_type": "markdown",
      "metadata": {
        "id": "x1b7iEZxClYO"
      },
      "source": [
        "# Machine Vision<br>Assignment 5 - Recognition\n",
        "\n",
        "## Personal details\n",
        "\n",
        "* **Name(s):** `SUBAM CHUAUHAN`\n",
        "* **Student ID(s):** `2771463 `\n",
        "\n",
        "## 1. Introduction\n",
        "\n",
        "In this assignment, our goal is to classify apples and pears using shape and color features. The figure below shows examples from both classes. There is a slight color difference between the apples and pears. Therefore, we will use the hue of the fruit as our first feature $x_1$. Depending on the viewpoint, the apples are generally more round compared to pears. To represent the roundness, we will use the eccentricity as our second feature $x_2$. The eccentricity will vary between 0 and 1 (the eccentricity of a circe is zero). The features can be combined into a feature vector $\\mathbf{x} = [x_1, x_2]^\\top$.\n",
        "\n",
        "![classes.png](attachment:classes.png)\n",
        "\n",
        "We can utilize techniques from the previous assignments to compute features (such as the eccentricity and hue) from the images. The focus of this assignment is, however, in the classification. The features and class labels have been precomputed and saved to `class_data.npz` file. We first read and visualize the samples.\n",
        "\n",
        "**Note!** The package *scikit-learn* is needed. In the terminal write: `pip install scikit-learn==0.24.1`"
      ]
    },
    {
      "cell_type": "code",
      "execution_count": null,
      "metadata": {
        "colab": {
          "base_uri": "https://localhost:8080/",
          "height": 403
        },
        "id": "85YURhQeClYT",
        "outputId": "c93bfccd-b1ea-4fb1-f53e-500363a7e0c1"
      },
      "outputs": [
        {
          "output_type": "stream",
          "name": "stdout",
          "text": [
            "[[23.05909256  0.50872999]\n",
            " [26.22227052  0.32685606]\n",
            " [23.50354033  0.5416599 ]\n",
            " [27.19005821  0.3446652 ]]\n",
            "['pear' 'apple' 'pear' 'apple']\n"
          ]
        },
        {
          "output_type": "execute_result",
          "data": {
            "text/plain": [
              "<matplotlib.legend.Legend at 0x7f1eb075fa90>"
            ]
          },
          "metadata": {},
          "execution_count": 1
        },
        {
          "output_type": "display_data",
          "data": {
            "image/png": "[encoded data removed]",
            "text/plain": [
              "<Figure size 432x288 with 1 Axes>"
            ]
          },
          "metadata": {
            "needs_background": "light"
          }
        }
      ],
      "source": [
        "import numpy as np\n",
        "import matplotlib.pyplot as plt\n",
        "%matplotlib inline\n",
        "\n",
        "from sklearn.neighbors import NearestCentroid\n",
        "\n",
        "# Load data\n",
        "data=np.load('class_data.npz')\n",
        "X_train = data['arr_0'] # Nx2 matrix\n",
        "y_train = data['arr_1'] # 1xN vector\n",
        "X_test = data['arr_2']  # Mx2 matrix\n",
        "y_test = data['arr_3']  # 1xM vector\n",
        "\n",
        "# We print a few feature vectors and the \n",
        "# corresponding true classes\n",
        "print(X_train[:4,:])\n",
        "print(y_train[:4])\n",
        "\n",
        "# Visualize training data\n",
        "yp = y_train == 'pear'\n",
        "ya = y_train == 'apple'\n",
        "X1 = X_train[yp,:]\n",
        "X2 = X_train[ya,:]\n",
        "\n",
        "fig, ax = plt.subplots()\n",
        "ax.scatter(X1[:,0], X1[:,1], c='r', label='pear')\n",
        "ax.scatter(X2[:,0], X2[:,1], c='b', label='apple')\n",
        "ax.set_xlabel('$x_1$ (hue)')\n",
        "ax.set_ylabel('$x_2$ (eccentricity)')\n",
        "ax.set_title('Training data')\n",
        "ax.legend()"
      ]
    },
    {
      "cell_type": "markdown",
      "metadata": {
        "id": "ePteXVgTClYV"
      },
      "source": [
        "## 2. Classification (Euclidean distance)\n",
        "\n",
        "**2.1. Nearest centroid classifier** $\\quad$ <font color=red>(0.25 points)</font>\n",
        "\n",
        "Complete the following code cell. You need to classify the test samples using the __[`nearest centroid classifier`](https://scikit-learn.org/stable/modules/generated/sklearn.neighbors.NearestCentroid.html)__. First, you should train the classifier using the training samples `X_train` and `y_train`. See the example __[`Recognition.ipynb`](https://github.com/jtheikkila/mvis/blob/master/jupyter/Recognition.ipynb)__ for more information. Use the Euclidean distance as the distance metric. Evaluate the performance of the classifier using independent test data `X_test` and true labels `y_test`. That is, print the mean accuracy the same ways as in the sample code."
      ]
    },
    {
      "cell_type": "code",
      "execution_count": null,
      "metadata": {
        "deletable": false,
        "nbgrader": {
          "cell_type": "code",
          "checksum": "8dae3ae27263e23a0586839e2c2409e5",
          "grade": false,
          "grade_id": "nc",
          "locked": false,
          "schema_version": 3,
          "solution": true,
          "task": false
        },
        "colab": {
          "base_uri": "https://localhost:8080/"
        },
        "id": "0EppDoTUClYV",
        "outputId": "92954848-213f-4d9c-c8ef-ba711b4328a8"
      },
      "outputs": [
        {
          "output_type": "stream",
          "name": "stdout",
          "text": [
            "0.7\n"
          ]
        }
      ],
      "source": [
        "# ---------- YOUR CODE STARTS HERE -----------\n",
        "nc = NearestCentroid()\n",
        "# Train the classifier using the fit() method\n",
        "nc.fit(X_train, y_train)\n",
        "\n",
        "# Print the mean accuracy using the score() method\n",
        "print(nc.score(X_test, y_test))\n",
        "\n",
        "# ----------- YOUR CODE ENDS HERE ------------"
      ]
    },
    {
      "cell_type": "code",
      "execution_count": null,
      "metadata": {
        "deletable": false,
        "editable": false,
        "nbgrader": {
          "cell_type": "code",
          "checksum": "442075a4a491baedcf7bb8ca48a3ab79",
          "grade": true,
          "grade_id": "correct-nc",
          "locked": true,
          "points": 0.25,
          "schema_version": 3,
          "solution": false,
          "task": false
        },
        "id": "c3NWIKTnClYW"
      },
      "outputs": [],
      "source": [
        "# LEAVE EMPTY"
      ]
    },
    {
      "cell_type": "markdown",
      "metadata": {
        "id": "_gC9H8AoClYW"
      },
      "source": [
        "**Hint:** Your code should be correct if the mean accuracy is 0.70."
      ]
    },
    {
      "cell_type": "markdown",
      "metadata": {
        "id": "FDkdxP0YClYX"
      },
      "source": [
        "**2.2. Visualization** $\\quad$ <font color=red>(0.50 points)</font>\n",
        "\n",
        "Complete the following code cell. Plot the test data (`X_test`, `y_test`) the same way we plotted the training data. You should also display the class centroids and the decision boundary between the classes. Again, take a look at the sample code __[`Recognition.ipynb`](https://github.com/jtheikkila/mvis/blob/master/jupyter/Recognition.ipynb)__. Please do not overwrite the training feature vectors `X1` and `X2` as we will use them later."
      ]
    },
    {
      "cell_type": "code",
      "execution_count": null,
      "metadata": {
        "deletable": false,
        "nbgrader": {
          "cell_type": "code",
          "checksum": "073592d0b37bad1340e6fc671e04d152",
          "grade": true,
          "grade_id": "vis",
          "locked": false,
          "points": 0.5,
          "schema_version": 3,
          "solution": true,
          "task": false
        },
        "colab": {
          "base_uri": "https://localhost:8080/",
          "height": 314
        },
        "id": "V5OnDdhVClYY",
        "outputId": "3666131e-264e-4bd7-c024-957e9d58fc95"
      },
      "outputs": [
        {
          "output_type": "execute_result",
          "data": {
            "text/plain": [
              "<matplotlib.legend.Legend at 0x7f1eb0699f90>"
            ]
          },
          "metadata": {},
          "execution_count": 4
        },
        {
          "output_type": "display_data",
          "data": {
            "image/png": "[encoded data removed]",
            "text/plain": [
              "<Figure size 432x288 with 1 Axes>"
            ]
          },
          "metadata": {
            "needs_background": "light"
          }
        }
      ],
      "source": [
        "# ---------- YOUR CODE STARTS HERE -----------\n",
        "y_pred = nc.predict(X_test)\n",
        "\n",
        "yp_test = y_test == \"pear\"\n",
        "ya_test = y_test == \"apple\"\n",
        "\n",
        "\n",
        "x_, y_ = np.meshgrid(np.linspace(21,31,1000),np.linspace(0.25,0.65,1000))\n",
        "grid = np.vstack((x_.flatten(), y_.flatten())).T\n",
        "\n",
        "db = nc.predict(grid).reshape(1000,1000)\n",
        "db = (db == 'pear').astype(np.uint8)\n",
        "\n",
        "fig, ax = plt.subplots()\n",
        "\n",
        "ax.scatter(X_test[yp_test,0], X_test[yp_test,1], c='g', label=\"pear\")\n",
        "ax.scatter(X_test[ya_test,0], X_test[ya_test,1], c='r', label=\"apple\")\n",
        "ax.scatter(nc.centroids_[:,0],nc.centroids_[:,1], c='b', marker='+', s=100)\n",
        "\n",
        "ax.contour(x_, y_, db, 1)\n",
        "\n",
        "ax.set_xlabel('$x_1$')\n",
        "ax.set_ylabel('$x_2$')\n",
        "\n",
        "ax.set_title('Test data')\n",
        "ax.legend()\n",
        "\n",
        "\n",
        "\n",
        "# ----------- YOUR CODE ENDS HERE ------------"
      ]
    },
    {
      "cell_type": "markdown",
      "metadata": {
        "id": "0riLF8Y9ClYY"
      },
      "source": [
        "**Notes** \n",
        "- It is not necessary to display the true positives (TP), true negatives (TN), false positives (FP) and false negatives (FN) as in the sample code. However, you should use at least two different colors (red and blue) to indicate pears and apples the same way as before.\n",
        "\n",
        "- Euclidean distance does not work well in this case. Therefore, it may seem that the decision boundary is incorrect. You can check your solution by counting the correctly classified samples and dividing that by the total number of samples. That should be 35/50 = 0.70 (same as in the previous section)."
      ]
    },
    {
      "cell_type": "markdown",
      "metadata": {
        "id": "WxMTSEaPClYZ"
      },
      "source": [
        "## 3. Classification (Mahalanobis distance)\n",
        "\n",
        "Notice that features (eccentricity and hue) are not measured in the same units. The drawback with Euclidean distance is that it gives equal weights to all dimensions. The clusters that we are trying to model are not spherical so the Euclidean distance does not give an accurate distance. We can model both clusters as multivariate Gaussian distributions with a mean $\\mu$ and covariance matrix $\\sum$. This implicitly represents the region as an ellipsoid centered at $\\mu$ with the axes aligned with the eigenvectors of $\\sum$.\n",
        "\n",
        "The Mahalanobis distance provides an adequate distance in this case, weighting each dimension according to the observed variance and taking into account covariance of different dimensions. The equation for the Mahalanobis distance is:\n",
        "\n",
        "$$\n",
        "d_M^i = \\sqrt{(\\mathbf{x}-\\mathbf{\\mu}_i)^\\top \\sum{}{}_{i}^{-1} (\\mathbf{x}-\\mathbf{\\mu}_i)} \\qquad \\qquad (1).\n",
        "$$\n",
        "\n",
        "In this case, the inverse covariance matrix $\\sum^{-1}$ is a 2 x 2 matrix as we have two features.\n",
        "\n",
        "**3.1. Compute means and covariances** $\\quad$ <font color=red>(0.25 points)</font>\n",
        "\n",
        "Complete the following code cell. Compute the means (centroids) $\\mathbf{\\mu}_1$ and $\\mathbf{\\mu}_2$ of the training samples `X1` and `X2`. You can use the function __[`np.mean()`](https://docs.scipy.org/doc/numpy/reference/generated/numpy.mean.html)__. The means should be the same as before (plotted in Sec. 2.2.). You should also compute the covariance matrices $\\sum_1$ and $\\sum_2$ using __[`np.cov()`](https://numpy.org/doc/stable/reference/generated/numpy.cov.html)__. These should be 2 x 2 matrices (see the *rowvar* parameter). Name the means as `mean1` and `mean2`, and the covariance matrices as `cov1` and `cov2`."
      ]
    },
    {
      "cell_type": "code",
      "execution_count": null,
      "metadata": {
        "deletable": false,
        "nbgrader": {
          "cell_type": "code",
          "checksum": "f998d14cb359fb5e9463299b8674799d",
          "grade": false,
          "grade_id": "cov_matrices",
          "locked": false,
          "schema_version": 3,
          "solution": true,
          "task": false
        },
        "colab": {
          "base_uri": "https://localhost:8080/"
        },
        "id": "2E_QWmQ4ClYa",
        "outputId": "0a601548-efdf-40cc-991f-003a46f81627"
      },
      "outputs": [
        {
          "output_type": "stream",
          "name": "stdout",
          "text": [
            "[[ 2.68554981 -0.01786459]\n",
            " [-0.01786459  0.0040742 ]] [[ 9.85996578e-01 -2.47710310e-04]\n",
            " [-2.47710310e-04  4.37275336e-04]]\n"
          ]
        }
      ],
      "source": [
        "# ---------- YOUR CODE STARTS HERE -----------\n",
        "mean1 = np.mean(X_train[yp,:], axis=0)\n",
        "mean2 = np.mean(X_train[ya,:], axis=0)\n",
        "\n",
        "cov1 = np.cov(X_train[yp,:], rowvar=False)\n",
        "cov2 = np.cov(X_train[ya,:], rowvar=False)\n",
        "print(cov1, cov2)\n",
        "\n",
        "\n",
        "\n",
        "# ----------- YOUR CODE ENDS HERE ------------"
      ]
    },
    {
      "cell_type": "code",
      "execution_count": null,
      "metadata": {
        "deletable": false,
        "editable": false,
        "nbgrader": {
          "cell_type": "code",
          "checksum": "a73cf32fb496463d8231e8fa8f133e75",
          "grade": true,
          "grade_id": "correct-cov_matrices",
          "locked": true,
          "points": 0.25,
          "schema_version": 3,
          "solution": false,
          "task": false
        },
        "id": "eBpDs2vPClYa"
      },
      "outputs": [],
      "source": [
        "# LEAVE EMPTY"
      ]
    },
    {
      "cell_type": "markdown",
      "metadata": {
        "id": "BKxL6K_oClYa"
      },
      "source": [
        "**3.2. Compute Mahalanobis distances** $\\quad$ <font color=red>(0.50 points)</font>\n",
        "\n",
        "Complete the following code cell. The function `mahalanobisDistances()` should compute Mahalanobis distances between the samples `X` and centroids $\\mathbf{\\mu}_1$ and $\\mathbf{\\mu}_2$. Use the formula 1. The function should return a vector of distances `dists`. You can use __[`np.linalg.inv()`](https://numpy.org/doc/stable/reference/generated/numpy.linalg.inv.html)__ to compute the inverse of the covariance matrix."
      ]
    },
    {
      "cell_type": "code",
      "execution_count": null,
      "metadata": {
        "deletable": false,
        "nbgrader": {
          "cell_type": "code",
          "checksum": "c5cebbb41c8c5b1c96dde65e554b5981",
          "grade": false,
          "grade_id": "maha",
          "locked": false,
          "schema_version": 3,
          "solution": true,
          "task": false
        },
        "id": "1snnBaoBClYb"
      },
      "outputs": [],
      "source": [
        "# INPUT   \n",
        "# X    : Feature vectors of the test samples (Mx2 matrix)\n",
        "# mean : The mean feature (centroid) of the class (1x2 vector)\n",
        "# cov  : Covariance matrix of the class (2x2 matrix)\n",
        "#\n",
        "# OUTPUT  \n",
        "# dists : Mahalanobis distances between the test samples 'X'\n",
        "#         and the centroid 'mean' (1xM vector)\n",
        "#\n",
        "def mahalanobisDistances(X, mean, cov):\n",
        "    \n",
        "    # ---------- YOUR CODE STARTS HERE -----------\n",
        "    temp = (X-mean).T\n",
        "    \n",
        "    dists = np.matmul(np.matmul(temp.T, np.linalg.inv(cov)),temp)\n",
        "    dists = np.sqrt(dists.diagonal())\n",
        "    \n",
        "    \n",
        "    # ----------- YOUR CODE ENDS HERE ------------\n",
        "\n",
        "    return dists"
      ]
    },
    {
      "cell_type": "code",
      "execution_count": null,
      "metadata": {
        "deletable": false,
        "editable": false,
        "nbgrader": {
          "cell_type": "code",
          "checksum": "fa9f3549158623aca132f8047dbc5cca",
          "grade": true,
          "grade_id": "correct-maha",
          "locked": true,
          "points": 0.5,
          "schema_version": 3,
          "solution": false,
          "task": false
        },
        "id": "9JbumSIPClYb"
      },
      "outputs": [],
      "source": [
        "# LEAVE EMPTY"
      ]
    },
    {
      "cell_type": "markdown",
      "metadata": {
        "id": "JhyD_NimClYb"
      },
      "source": [
        "Once you have completed the function, run the following code cell. Note that you may need to modify the first two lines so that the function call is compatible with your naming of the variables. Your code should be correct if the mean accuracy is 0.92. If the convariance matrices are identity matrices $\\sum = \\mathbf{I}$, Mahalanobis distance becomes Euclidean distance. The score should then be the same as in Sec. 2.1. (score = 0.70). This is just another way to test your code. "
      ]
    },
    {
      "cell_type": "code",
      "execution_count": null,
      "metadata": {
        "colab": {
          "base_uri": "https://localhost:8080/"
        },
        "id": "vyMw7Vz3ClYc",
        "outputId": "4cccbc7c-2348-4f05-f4f3-dc94eb2c5b15"
      },
      "outputs": [
        {
          "output_type": "stream",
          "name": "stdout",
          "text": [
            "Score = 0.920000\n"
          ]
        }
      ],
      "source": [
        "    \n",
        "# Calculate the distances (make sure to adjust the input variables)\n",
        "D1 = mahalanobisDistances(X_test, mean1, cov1)\n",
        "D2 = mahalanobisDistances(X_test, mean2, cov2)\n",
        "\n",
        "# Produce class labels based on the distances\n",
        "idx = D1 < D2\n",
        "y_pred = np.array(D1.shape[0]*['apple'])\n",
        "y_pred[idx == True] = 'pear'\n",
        "\n",
        "# Compute mean accuracy\n",
        "score = np.sum(y_test == y_pred) / y_test.shape[0]\n",
        "print('Score = %f' %score)\n"
      ]
    },
    {
      "cell_type": "markdown",
      "metadata": {
        "id": "RU9aUfSUClYc"
      },
      "source": [
        "**3.3. In what units is the Mahalanobis distance?** $\\quad$ <font color=red>(0.50 points)</font>"
      ]
    },
    {
      "cell_type": "markdown",
      "metadata": {
        "deletable": false,
        "nbgrader": {
          "cell_type": "markdown",
          "checksum": "881ecdb041462c568389cb8e3a7f75b4",
          "grade": true,
          "grade_id": "units",
          "locked": false,
          "points": 0.5,
          "schema_version": 3,
          "solution": true,
          "task": false
        },
        "id": "-TKBHkYjClYc"
      },
      "source": [
        "The unit of Mahalanobis distance is same as that of eucledian distance."
      ]
    },
    {
      "cell_type": "markdown",
      "metadata": {
        "id": "77FENMmsClYc"
      },
      "source": [
        "# Aftermath\n",
        "Finally, fill your answers to the following questions:"
      ]
    },
    {
      "cell_type": "markdown",
      "metadata": {
        "id": "YW3piKoBClYd"
      },
      "source": [
        "**How much time did you need to complete this exercise?**\n",
        "\n",
        "5 hrs"
      ]
    },
    {
      "cell_type": "markdown",
      "metadata": {
        "id": "6P4-u3LvClYd"
      },
      "source": [
        "**Did you experience any problems with the exercise? Was there enough help available? Should this notebook be more (or less) detailed?**\n",
        "\n",
        "None."
      ]
    },
    {
      "cell_type": "markdown",
      "metadata": {
        "id": "GYBIK1-uClYd"
      },
      "source": [
        "# References\n",
        "https://numpy.org/doc/stable/reference/generated/numpy.cov.html\n",
        "https://github.com/jtheikkila/mvis/blob/master/jupyter/Recognition.ipynb\n",
        "https://numpy.org/doc/stable/reference/generated/numpy.mean.html"
      ]
    },
    {
      "cell_type": "markdown",
      "metadata": {
        "collapsed": true,
        "id": "SMAdbTQYClYd"
      },
      "source": [
        "# Submission\n",
        "\n",
        "1. Click on the menu `Kernel -> Restart & Clear Output` to clear all outputs and variables, etc.\n",
        "2. Compress the resulting Jupyter notebook (`MV_A5.ipynb` file) into **`MV_A5_[student number(s)].zip`** (e.g. `MV_A5_1234567.zip` if solo work or `MV_A5_1234567-7654321.zip` if pair work).\n",
        "3. Upload the .zip file to Moodle. The return box can be found in the assignments section.\n",
        "\n",
        "**Deadline of the assignment 16.2.2022**"
      ]
    }
  ],
  "metadata": {
    "kernelspec": {
      "display_name": "Python 3",
      "language": "python",
      "name": "python3"
    },
    "language_info": {
      "codemirror_mode": {
        "name": "ipython",
        "version": 3
      },
      "file_extension": ".py",
      "mimetype": "text/x-python",
      "name": "python",
      "nbconvert_exporter": "python",
      "pygments_lexer": "ipython3",
      "version": "3.8.6"
    },
    "colab": {
      "name": "MV_A5.ipynb",
      "provenance": [],
      "include_colab_link": true
    }
  },
  "nbformat": 4,
  "nbformat_minor": 0
}